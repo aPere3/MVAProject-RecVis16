{
 "cells": [
  {
   "cell_type": "markdown",
   "metadata": {},
   "source": [
    "# Check Output distance for perturbed samples\n",
    "\n",
    "In this notebook, we perturb samples with Gaussian noise, and we check the improvements brought by stability training."
   ]
  },
  {
   "cell_type": "markdown",
   "metadata": {},
   "source": [
    "We import useful librairies"
   ]
  },
  {
   "cell_type": "code",
   "execution_count": 1,
   "metadata": {
    "collapsed": true
   },
   "outputs": [],
   "source": [
    "import sys, os \n",
    "sys.path.append(os.getcwd()+'/../src')\n",
    "sys.path.append(os.getcwd()+'/../data')\n",
    "\n",
    "import numpy\n",
    "import matplotlib.pyplot as plt\n",
    "%matplotlib inline\n",
    "from IPython.display import clear_output\n",
    "\n",
    "import architectures\n",
    "import cifar10\n",
    "import utils\n",
    "import callbacks"
   ]
  },
  {
   "cell_type": "markdown",
   "metadata": {},
   "source": [
    "We import CIFAR Data"
   ]
  },
  {
   "cell_type": "code",
   "execution_count": 2,
   "metadata": {
    "collapsed": true
   },
   "outputs": [],
   "source": [
    "X_test, y_test_lab = cifar10.load_cifar(dataset='testing', path=os.getcwd()+'/../data/cifar')\n",
    "X_test = numpy.reshape(X_test, [X_test.shape[0], -1])\n",
    "X_test = X_test/255.\n",
    "X_test = X_test.astype(numpy.float32)\n",
    "y_test = utils.labels_to_categoricals(y_test_lab)"
   ]
  },
  {
   "cell_type": "markdown",
   "metadata": {},
   "source": [
    "We perturb samples"
   ]
  },
  {
   "cell_type": "code",
   "execution_count": 3,
   "metadata": {
    "collapsed": true
   },
   "outputs": [],
   "source": [
    "pert = 0.05*numpy.random.randn(10000, 3072)\n",
    "X_test_p = X_test+pert"
   ]
  },
  {
   "cell_type": "markdown",
   "metadata": {},
   "source": [
    "We load regular network and stabilized one (1st configuration):"
   ]
  },
  {
   "cell_type": "code",
   "execution_count": 6,
   "metadata": {
    "collapsed": true
   },
   "outputs": [],
   "source": [
    "stab_net = architectures.CifarNet(path_to_logs=os.getcwd()+'/Logs')\n",
    "stab_net.load('Networks/StabilityTuned3')\n",
    "class_net = architectures.CifarNet(path_to_logs=os.getcwd()+'/Logs')\n",
    "class_net.load('Networks/RegularTuned')"
   ]
  },
  {
   "cell_type": "markdown",
   "metadata": {},
   "source": [
    "We compute mean KL-Divergence for regularly trained network"
   ]
  },
  {
   "cell_type": "code",
   "execution_count": 8,
   "metadata": {
    "collapsed": false
   },
   "outputs": [
    {
     "name": "stdout",
     "output_type": "stream",
     "text": [
      "0.0536227\n"
     ]
    }
   ],
   "source": [
    "out1 = class_net.evaluate_output(X_test)\n",
    "out2 = class_net.evaluate_output(X_test_p)\n",
    "diff = -out1*numpy.log(out2)\n",
    "print(diff.mean())"
   ]
  },
  {
   "cell_type": "markdown",
   "metadata": {},
   "source": [
    "We compute mean KLL-Divergence for stability trained network"
   ]
  },
  {
   "cell_type": "code",
   "execution_count": 7,
   "metadata": {
    "collapsed": false
   },
   "outputs": [
    {
     "name": "stdout",
     "output_type": "stream",
     "text": [
      "0.038553\n"
     ]
    }
   ],
   "source": [
    "out1 = stab_net.evaluate_output(X_test)\n",
    "out2 = stab_net.evaluate_output(X_test_p)\n",
    "diff = -out1*numpy.log(out2)\n",
    "print(diff.mean())"
   ]
  },
  {
   "cell_type": "markdown",
   "metadata": {},
   "source": [
    "As expected, the KL-Div is lower for stability training."
   ]
  }
 ],
 "metadata": {
  "kernelspec": {
   "display_name": "Python 2",
   "language": "python",
   "name": "python2"
  },
  "language_info": {
   "codemirror_mode": {
    "name": "ipython",
    "version": 2
   },
   "file_extension": ".py",
   "mimetype": "text/x-python",
   "name": "python",
   "nbconvert_exporter": "python",
   "pygments_lexer": "ipython2",
   "version": "2.7.6"
  }
 },
 "nbformat": 4,
 "nbformat_minor": 2
}
